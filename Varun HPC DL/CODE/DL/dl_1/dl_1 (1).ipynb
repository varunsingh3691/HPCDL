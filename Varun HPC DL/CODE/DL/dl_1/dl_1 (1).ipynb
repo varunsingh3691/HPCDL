{
 "cells": [
  {
   "cell_type": "code",
   "execution_count": 41,
   "id": "31068fa6",
   "metadata": {},
   "outputs": [],
   "source": [
    "#load the dataset:\n",
    "import pandas as pd\n",
    "import tensorflow as tf\n",
    "import keras\n",
    "df=pd.read_csv('data.csv') "
   ]
  },
  {
   "cell_type": "code",
   "execution_count": 42,
   "id": "ade744e4",
   "metadata": {},
   "outputs": [
    {
     "name": "stdout",
     "output_type": "stream",
     "text": [
      "      CRIM    ZN  INDUS  CHAS    NOX     RM   AGE     DIS  RAD  TAX  PTRATIO  \\\n",
      "0  0.00632  18.0   2.31     0  0.538  6.575  65.2  4.0900    1  296     15.3   \n",
      "1  0.02731   0.0   7.07     0  0.469  6.421  78.9  4.9671    2  242     17.8   \n",
      "2  0.02729   0.0   7.07     0  0.469  7.185  61.1  4.9671    2  242     17.8   \n",
      "3  0.03237   0.0   2.18     0  0.458  6.998  45.8  6.0622    3  222     18.7   \n",
      "4  0.06905   0.0   2.18     0  0.458  7.147  54.2  6.0622    3  222     18.7   \n",
      "\n",
      "        B  LSTAT  MEDV  \n",
      "0  396.90   4.98  24.0  \n",
      "1  396.90   9.14  21.6  \n",
      "2  392.83   4.03  34.7  \n",
      "3  394.63   2.94  33.4  \n",
      "4  396.90   5.33  36.2  \n"
     ]
    }
   ],
   "source": [
    "print(df.head()) "
   ]
  },
  {
   "cell_type": "code",
   "execution_count": 43,
   "id": "e0bbb5ad",
   "metadata": {},
   "outputs": [
    {
     "name": "stdout",
     "output_type": "stream",
     "text": [
      "Index(['CRIM', 'ZN', 'INDUS', 'CHAS', 'NOX', 'RM', 'AGE', 'DIS', 'RAD', 'TAX',\n",
      "       'PTRATIO', 'B', 'LSTAT', 'MEDV'],\n",
      "      dtype='object')\n"
     ]
    }
   ],
   "source": [
    "print(df.columns)"
   ]
  },
  {
   "cell_type": "code",
   "execution_count": 44,
   "id": "c9f52da7",
   "metadata": {},
   "outputs": [],
   "source": [
    "#preprocessing the dataset\n",
    "from sklearn.preprocessing import StandardScaler \n",
    "# Split the data into input and output variables \n",
    "X=df.drop('MEDV',axis=1) \n",
    "Y=df['MEDV'] \n"
   ]
  },
  {
   "cell_type": "code",
   "execution_count": 45,
   "id": "b527dcfb",
   "metadata": {},
   "outputs": [
    {
     "name": "stdout",
     "output_type": "stream",
     "text": [
      "      CRIM    ZN  INDUS  CHAS    NOX     RM   AGE     DIS  RAD  TAX  PTRATIO  \\\n",
      "0  0.00632  18.0   2.31     0  0.538  6.575  65.2  4.0900    1  296     15.3   \n",
      "1  0.02731   0.0   7.07     0  0.469  6.421  78.9  4.9671    2  242     17.8   \n",
      "2  0.02729   0.0   7.07     0  0.469  7.185  61.1  4.9671    2  242     17.8   \n",
      "3  0.03237   0.0   2.18     0  0.458  6.998  45.8  6.0622    3  222     18.7   \n",
      "4  0.06905   0.0   2.18     0  0.458  7.147  54.2  6.0622    3  222     18.7   \n",
      "\n",
      "        B  LSTAT  \n",
      "0  396.90   4.98  \n",
      "1  396.90   9.14  \n",
      "2  392.83   4.03  \n",
      "3  394.63   2.94  \n",
      "4  396.90   5.33  \n"
     ]
    }
   ],
   "source": [
    "# Scale the input features \n",
    "scaler = StandardScaler() \n",
    "scaler.fit_transform(X) \n",
    "print(X[:5]) "
   ]
  },
  {
   "cell_type": "code",
   "execution_count": 46,
   "id": "5233727b",
   "metadata": {},
   "outputs": [],
   "source": [
    "#Split the dataset \n",
    "from sklearn.model_selection import train_test_split \n",
    "#Split the data into training and testing sets \n",
    "X_train, X_test, Y_train, Y_test = train_test_split(X, Y, test_size=0.3, random_state=42)    "
   ]
  },
  {
   "cell_type": "code",
   "execution_count": 47,
   "id": "b37bd190",
   "metadata": {},
   "outputs": [
    {
     "name": "stdout",
     "output_type": "stream",
     "text": [
      "Training set shape: (354, 13) (354,)\n",
      "Testing set shape: (152, 13) (152,)\n"
     ]
    }
   ],
   "source": [
    "#Print the shapes of the training and testing sets \n",
    "print('Training set shape:', X_train.shape, Y_train.shape) \n",
    "print('Testing set shape:', X_test.shape, Y_test.shape) "
   ]
  },
  {
   "cell_type": "code",
   "execution_count": 48,
   "id": "cb1027f1",
   "metadata": {},
   "outputs": [],
   "source": [
    "#: Define the model architecture \n",
    "from keras.models import Sequential \n",
    "from keras.layers import Dense, Dropout \n"
   ]
  },
  {
   "cell_type": "code",
   "execution_count": 49,
   "id": "0df32a2a",
   "metadata": {},
   "outputs": [],
   "source": [
    "model =Sequential() \n",
    "model.add(Dense(64,input_dim=13,activation='relu'))  \n",
    "model.add(Dropout(0.2)) \n",
    "model.add(Dense(32,activation='relu')) \n",
    "model.add(Dense(1)) "
   ]
  },
  {
   "cell_type": "code",
   "execution_count": 50,
   "id": "f1f7d9a9",
   "metadata": {},
   "outputs": [
    {
     "name": "stdout",
     "output_type": "stream",
     "text": [
      "Model: \"sequential_2\"\n",
      "_________________________________________________________________\n",
      " Layer (type)                Output Shape              Param #   \n",
      "=================================================================\n",
      " dense_4 (Dense)             (None, 64)                896       \n",
      "                                                                 \n",
      " dropout_2 (Dropout)         (None, 64)                0         \n",
      "                                                                 \n",
      " dense_5 (Dense)             (None, 32)                2080      \n",
      "                                                                 \n",
      " dense_6 (Dense)             (None, 1)                 33        \n",
      "                                                                 \n",
      "=================================================================\n",
      "Total params: 3009 (11.75 KB)\n",
      "Trainable params: 3009 (11.75 KB)\n",
      "Non-trainable params: 0 (0.00 Byte)\n",
      "_________________________________________________________________\n",
      "None\n"
     ]
    }
   ],
   "source": [
    "# Display \tthe \tmodel \tsummary \n",
    "print(model.summary()) \n"
   ]
  },
  {
   "cell_type": "code",
   "execution_count": 56,
   "id": "49d21273",
   "metadata": {},
   "outputs": [],
   "source": [
    "# Compile the model \n",
    "from keras.losses import MeanSquaredError\n",
    "model.compile(loss=MeanSquaredError(), optimizer='adam', metrics=['mean_absolute_error']) "
   ]
  },
  {
   "cell_type": "code",
   "execution_count": 60,
   "id": "4d9a9be3",
   "metadata": {},
   "outputs": [],
   "source": [
    "#Train the model \n",
    "from keras.callbacks import EarlyStopping \n"
   ]
  },
  {
   "cell_type": "code",
   "execution_count": 61,
   "id": "c75817d0",
   "metadata": {},
   "outputs": [],
   "source": [
    "early_stopping = EarlyStopping(monitor='val_loss', patience=5) "
   ]
  },
  {
   "cell_type": "code",
   "execution_count": 62,
   "id": "512b8cd1",
   "metadata": {},
   "outputs": [
    {
     "name": "stdout",
     "output_type": "stream",
     "text": [
      "Epoch 1/100\n",
      "9/9 [==============================] - 0s 29ms/step - loss: 426.5981 - mean_absolute_error: 18.2794 - val_loss: 389.5282 - val_mean_absolute_error: 17.8849\n",
      "Epoch 2/100\n",
      "9/9 [==============================] - 0s 14ms/step - loss: 422.9983 - mean_absolute_error: 18.1799 - val_loss: 385.9483 - val_mean_absolute_error: 17.7846\n",
      "Epoch 3/100\n",
      "9/9 [==============================] - 0s 13ms/step - loss: 419.3287 - mean_absolute_error: 18.0795 - val_loss: 382.3798 - val_mean_absolute_error: 17.6840\n",
      "Epoch 4/100\n",
      "9/9 [==============================] - 0s 12ms/step - loss: 415.6708 - mean_absolute_error: 17.9794 - val_loss: 378.7936 - val_mean_absolute_error: 17.5823\n",
      "Epoch 5/100\n",
      "9/9 [==============================] - 0s 15ms/step - loss: 412.0344 - mean_absolute_error: 17.8771 - val_loss: 375.1565 - val_mean_absolute_error: 17.4785\n",
      "Epoch 6/100\n",
      "9/9 [==============================] - 0s 12ms/step - loss: 408.2989 - mean_absolute_error: 17.7741 - val_loss: 371.5348 - val_mean_absolute_error: 17.3746\n",
      "Epoch 7/100\n",
      "9/9 [==============================] - 0s 14ms/step - loss: 404.5873 - mean_absolute_error: 17.6705 - val_loss: 367.8936 - val_mean_absolute_error: 17.2695\n",
      "Epoch 8/100\n",
      "9/9 [==============================] - 0s 14ms/step - loss: 400.8268 - mean_absolute_error: 17.5662 - val_loss: 364.2647 - val_mean_absolute_error: 17.1641\n",
      "Epoch 9/100\n",
      "9/9 [==============================] - 0s 14ms/step - loss: 397.1424 - mean_absolute_error: 17.4605 - val_loss: 360.5665 - val_mean_absolute_error: 17.0561\n",
      "Epoch 10/100\n",
      "9/9 [==============================] - 0s 12ms/step - loss: 393.3425 - mean_absolute_error: 17.3534 - val_loss: 356.8911 - val_mean_absolute_error: 16.9480\n",
      "Epoch 11/100\n",
      "9/9 [==============================] - 0s 14ms/step - loss: 389.6096 - mean_absolute_error: 17.2465 - val_loss: 353.1629 - val_mean_absolute_error: 16.8376\n",
      "Epoch 12/100\n",
      "9/9 [==============================] - 0s 13ms/step - loss: 385.7727 - mean_absolute_error: 17.1374 - val_loss: 349.4699 - val_mean_absolute_error: 16.7276\n",
      "Epoch 13/100\n",
      "9/9 [==============================] - 0s 15ms/step - loss: 382.0236 - mean_absolute_error: 17.0276 - val_loss: 345.7211 - val_mean_absolute_error: 16.6152\n",
      "Epoch 14/100\n",
      "9/9 [==============================] - 0s 14ms/step - loss: 378.1836 - mean_absolute_error: 16.9171 - val_loss: 342.0026 - val_mean_absolute_error: 16.5029\n",
      "Epoch 15/100\n",
      "9/9 [==============================] - 0s 13ms/step - loss: 374.3977 - mean_absolute_error: 16.8064 - val_loss: 338.2518 - val_mean_absolute_error: 16.3888\n",
      "Epoch 16/100\n",
      "9/9 [==============================] - 0s 15ms/step - loss: 370.5568 - mean_absolute_error: 16.6946 - val_loss: 334.5292 - val_mean_absolute_error: 16.2749\n",
      "Epoch 17/100\n",
      "9/9 [==============================] - 0s 14ms/step - loss: 366.7586 - mean_absolute_error: 16.5822 - val_loss: 330.7881 - val_mean_absolute_error: 16.1595\n",
      "Epoch 18/100\n",
      "9/9 [==============================] - 0s 14ms/step - loss: 362.9265 - mean_absolute_error: 16.4688 - val_loss: 327.0470 - val_mean_absolute_error: 16.0434\n",
      "Epoch 19/100\n",
      "9/9 [==============================] - 0s 14ms/step - loss: 359.1450 - mean_absolute_error: 16.3540 - val_loss: 323.2658 - val_mean_absolute_error: 15.9251\n",
      "Epoch 20/100\n",
      "9/9 [==============================] - 0s 18ms/step - loss: 355.3038 - mean_absolute_error: 16.2385 - val_loss: 319.5060 - val_mean_absolute_error: 15.8066\n",
      "Epoch 21/100\n",
      "9/9 [==============================] - 0s 14ms/step - loss: 351.4385 - mean_absolute_error: 16.1226 - val_loss: 315.7789 - val_mean_absolute_error: 15.6883\n",
      "Epoch 22/100\n",
      "9/9 [==============================] - 0s 15ms/step - loss: 347.6358 - mean_absolute_error: 16.0054 - val_loss: 312.0322 - val_mean_absolute_error: 15.5684\n",
      "Epoch 23/100\n",
      "9/9 [==============================] - 0s 17ms/step - loss: 343.7915 - mean_absolute_error: 15.8895 - val_loss: 308.3123 - val_mean_absolute_error: 15.4512\n",
      "Epoch 24/100\n",
      "9/9 [==============================] - 0s 17ms/step - loss: 339.9744 - mean_absolute_error: 15.7731 - val_loss: 304.5915 - val_mean_absolute_error: 15.3342\n",
      "Epoch 25/100\n",
      "9/9 [==============================] - 0s 17ms/step - loss: 336.2062 - mean_absolute_error: 15.6550 - val_loss: 300.8367 - val_mean_absolute_error: 15.2181\n",
      "Epoch 26/100\n",
      "9/9 [==============================] - 0s 14ms/step - loss: 332.3702 - mean_absolute_error: 15.5379 - val_loss: 297.1183 - val_mean_absolute_error: 15.1023\n",
      "Epoch 27/100\n",
      "9/9 [==============================] - 0s 13ms/step - loss: 328.5612 - mean_absolute_error: 15.4185 - val_loss: 293.4082 - val_mean_absolute_error: 14.9857\n",
      "Epoch 28/100\n",
      "9/9 [==============================] - 0s 13ms/step - loss: 324.7568 - mean_absolute_error: 15.3008 - val_loss: 289.7114 - val_mean_absolute_error: 14.8686\n",
      "Epoch 29/100\n",
      "9/9 [==============================] - 0s 11ms/step - loss: 321.0193 - mean_absolute_error: 15.1816 - val_loss: 285.9883 - val_mean_absolute_error: 14.7497\n",
      "Epoch 30/100\n",
      "9/9 [==============================] - 0s 12ms/step - loss: 317.2327 - mean_absolute_error: 15.0610 - val_loss: 282.2900 - val_mean_absolute_error: 14.6306\n",
      "Epoch 31/100\n",
      "9/9 [==============================] - 0s 16ms/step - loss: 313.4734 - mean_absolute_error: 14.9419 - val_loss: 278.6101 - val_mean_absolute_error: 14.5110\n",
      "Epoch 32/100\n",
      "9/9 [==============================] - 0s 15ms/step - loss: 309.6863 - mean_absolute_error: 14.8203 - val_loss: 274.9778 - val_mean_absolute_error: 14.3919\n",
      "Epoch 33/100\n",
      "9/9 [==============================] - 0s 16ms/step - loss: 305.9767 - mean_absolute_error: 14.7032 - val_loss: 271.3395 - val_mean_absolute_error: 14.2715\n",
      "Epoch 34/100\n",
      "9/9 [==============================] - 0s 14ms/step - loss: 302.2380 - mean_absolute_error: 14.5852 - val_loss: 267.7290 - val_mean_absolute_error: 14.1510\n",
      "Epoch 35/100\n",
      "9/9 [==============================] - 0s 16ms/step - loss: 298.6014 - mean_absolute_error: 14.4681 - val_loss: 264.0875 - val_mean_absolute_error: 14.0284\n",
      "Epoch 36/100\n",
      "9/9 [==============================] - 0s 14ms/step - loss: 294.8557 - mean_absolute_error: 14.3507 - val_loss: 260.5110 - val_mean_absolute_error: 13.9068\n",
      "Epoch 37/100\n",
      "9/9 [==============================] - 0s 12ms/step - loss: 291.1591 - mean_absolute_error: 14.2338 - val_loss: 256.9744 - val_mean_absolute_error: 13.7855\n",
      "Epoch 38/100\n",
      "9/9 [==============================] - 0s 16ms/step - loss: 287.5219 - mean_absolute_error: 14.1161 - val_loss: 253.4410 - val_mean_absolute_error: 13.6631\n",
      "Epoch 39/100\n",
      "9/9 [==============================] - 0s 15ms/step - loss: 283.9893 - mean_absolute_error: 13.9966 - val_loss: 249.8519 - val_mean_absolute_error: 13.5375\n",
      "Epoch 40/100\n",
      "9/9 [==============================] - 0s 15ms/step - loss: 280.3769 - mean_absolute_error: 13.8772 - val_loss: 246.3084 - val_mean_absolute_error: 13.4124\n",
      "Epoch 41/100\n",
      "9/9 [==============================] - 0s 16ms/step - loss: 276.6636 - mean_absolute_error: 13.7578 - val_loss: 242.9036 - val_mean_absolute_error: 13.2909\n",
      "Epoch 42/100\n",
      "9/9 [==============================] - 0s 15ms/step - loss: 273.2097 - mean_absolute_error: 13.6381 - val_loss: 239.4271 - val_mean_absolute_error: 13.1657\n",
      "Epoch 43/100\n",
      "9/9 [==============================] - 0s 17ms/step - loss: 269.6489 - mean_absolute_error: 13.5211 - val_loss: 235.9993 - val_mean_absolute_error: 13.0409\n",
      "Epoch 44/100\n",
      "9/9 [==============================] - 0s 13ms/step - loss: 266.1361 - mean_absolute_error: 13.4012 - val_loss: 232.6043 - val_mean_absolute_error: 12.9161\n",
      "Epoch 45/100\n",
      "9/9 [==============================] - 0s 17ms/step - loss: 262.6840 - mean_absolute_error: 13.2822 - val_loss: 229.2129 - val_mean_absolute_error: 12.7900\n",
      "Epoch 46/100\n",
      "9/9 [==============================] - 0s 13ms/step - loss: 259.1741 - mean_absolute_error: 13.1608 - val_loss: 225.9023 - val_mean_absolute_error: 12.6657\n",
      "Epoch 47/100\n",
      "9/9 [==============================] - 0s 14ms/step - loss: 255.7557 - mean_absolute_error: 13.0446 - val_loss: 222.6125 - val_mean_absolute_error: 12.5409\n",
      "Epoch 48/100\n",
      "9/9 [==============================] - 0s 14ms/step - loss: 252.4316 - mean_absolute_error: 12.9281 - val_loss: 219.2882 - val_mean_absolute_error: 12.4134\n",
      "Epoch 49/100\n",
      "9/9 [==============================] - 0s 16ms/step - loss: 249.0415 - mean_absolute_error: 12.8093 - val_loss: 216.0166 - val_mean_absolute_error: 12.2865\n",
      "Epoch 50/100\n",
      "9/9 [==============================] - 0s 16ms/step - loss: 245.6199 - mean_absolute_error: 12.6914 - val_loss: 212.8412 - val_mean_absolute_error: 12.1619\n",
      "Epoch 51/100\n",
      "9/9 [==============================] - 0s 16ms/step - loss: 242.4331 - mean_absolute_error: 12.5769 - val_loss: 209.5911 - val_mean_absolute_error: 12.0331\n",
      "Epoch 52/100\n",
      "9/9 [==============================] - 0s 14ms/step - loss: 239.0904 - mean_absolute_error: 12.4611 - val_loss: 206.4344 - val_mean_absolute_error: 11.9064\n",
      "Epoch 53/100\n",
      "9/9 [==============================] - 0s 17ms/step - loss: 235.8184 - mean_absolute_error: 12.3463 - val_loss: 203.3417 - val_mean_absolute_error: 11.7809\n",
      "Epoch 54/100\n",
      "9/9 [==============================] - 0s 15ms/step - loss: 232.6585 - mean_absolute_error: 12.2316 - val_loss: 200.2253 - val_mean_absolute_error: 11.6530\n",
      "Epoch 55/100\n",
      "9/9 [==============================] - 0s 16ms/step - loss: 229.5211 - mean_absolute_error: 12.1162 - val_loss: 197.1164 - val_mean_absolute_error: 11.5239\n",
      "Epoch 56/100\n",
      "9/9 [==============================] - 0s 16ms/step - loss: 226.2508 - mean_absolute_error: 12.0014 - val_loss: 194.1584 - val_mean_absolute_error: 11.3995\n",
      "Epoch 57/100\n",
      "9/9 [==============================] - 0s 15ms/step - loss: 223.2443 - mean_absolute_error: 11.8917 - val_loss: 191.1446 - val_mean_absolute_error: 11.2713\n",
      "Epoch 58/100\n",
      "9/9 [==============================] - 0s 16ms/step - loss: 220.1626 - mean_absolute_error: 11.7773 - val_loss: 188.1718 - val_mean_absolute_error: 11.1449\n",
      "Epoch 59/100\n",
      "9/9 [==============================] - 0s 16ms/step - loss: 217.1018 - mean_absolute_error: 11.6664 - val_loss: 185.2550 - val_mean_absolute_error: 11.0241\n",
      "Epoch 60/100\n",
      "9/9 [==============================] - 0s 16ms/step - loss: 214.0756 - mean_absolute_error: 11.5558 - val_loss: 182.4031 - val_mean_absolute_error: 10.9057\n",
      "Epoch 61/100\n",
      "9/9 [==============================] - 0s 12ms/step - loss: 211.1848 - mean_absolute_error: 11.4480 - val_loss: 179.5260 - val_mean_absolute_error: 10.7847\n",
      "Epoch 62/100\n",
      "9/9 [==============================] - 0s 16ms/step - loss: 208.2252 - mean_absolute_error: 11.3377 - val_loss: 176.7215 - val_mean_absolute_error: 10.6652\n",
      "Epoch 63/100\n",
      "9/9 [==============================] - 0s 16ms/step - loss: 205.4000 - mean_absolute_error: 11.2316 - val_loss: 173.9131 - val_mean_absolute_error: 10.5440\n",
      "Epoch 64/100\n",
      "9/9 [==============================] - 0s 19ms/step - loss: 202.5029 - mean_absolute_error: 11.1212 - val_loss: 171.1985 - val_mean_absolute_error: 10.4253\n",
      "Epoch 65/100\n",
      "9/9 [==============================] - 0s 15ms/step - loss: 199.7482 - mean_absolute_error: 11.0140 - val_loss: 168.4932 - val_mean_absolute_error: 10.3054\n",
      "Epoch 66/100\n",
      "9/9 [==============================] - 0s 15ms/step - loss: 196.9843 - mean_absolute_error: 10.9086 - val_loss: 165.8334 - val_mean_absolute_error: 10.1859\n",
      "Epoch 67/100\n",
      "9/9 [==============================] - 0s 14ms/step - loss: 194.1810 - mean_absolute_error: 10.8074 - val_loss: 163.2870 - val_mean_absolute_error: 10.0699\n",
      "Epoch 68/100\n",
      "9/9 [==============================] - 0s 16ms/step - loss: 191.5336 - mean_absolute_error: 10.7029 - val_loss: 160.7482 - val_mean_absolute_error: 9.9527\n",
      "Epoch 69/100\n",
      "9/9 [==============================] - 0s 15ms/step - loss: 188.9820 - mean_absolute_error: 10.6046 - val_loss: 158.1797 - val_mean_absolute_error: 9.8325\n",
      "Epoch 70/100\n",
      "9/9 [==============================] - 0s 14ms/step - loss: 186.3253 - mean_absolute_error: 10.5046 - val_loss: 155.7127 - val_mean_absolute_error: 9.7172\n",
      "Epoch 71/100\n",
      "9/9 [==============================] - 0s 13ms/step - loss: 183.8196 - mean_absolute_error: 10.4126 - val_loss: 153.2442 - val_mean_absolute_error: 9.6022\n",
      "Epoch 72/100\n",
      "9/9 [==============================] - 0s 13ms/step - loss: 181.2790 - mean_absolute_error: 10.3142 - val_loss: 150.8475 - val_mean_absolute_error: 9.4924\n",
      "Epoch 73/100\n",
      "9/9 [==============================] - 0s 13ms/step - loss: 178.8351 - mean_absolute_error: 10.2238 - val_loss: 148.4694 - val_mean_absolute_error: 9.3820\n",
      "Epoch 74/100\n",
      "9/9 [==============================] - 0s 13ms/step - loss: 176.3706 - mean_absolute_error: 10.1324 - val_loss: 146.1629 - val_mean_absolute_error: 9.2732\n",
      "Epoch 75/100\n",
      "9/9 [==============================] - 0s 14ms/step - loss: 173.9708 - mean_absolute_error: 10.0465 - val_loss: 143.9103 - val_mean_absolute_error: 9.1654\n",
      "Epoch 76/100\n",
      "9/9 [==============================] - 0s 14ms/step - loss: 171.6460 - mean_absolute_error: 9.9595 - val_loss: 141.6890 - val_mean_absolute_error: 9.0575\n",
      "Epoch 77/100\n",
      "9/9 [==============================] - 0s 15ms/step - loss: 169.3334 - mean_absolute_error: 9.8764 - val_loss: 139.5213 - val_mean_absolute_error: 8.9506\n",
      "Epoch 78/100\n",
      "9/9 [==============================] - 0s 13ms/step - loss: 167.0989 - mean_absolute_error: 9.7935 - val_loss: 137.3877 - val_mean_absolute_error: 8.8469\n",
      "Epoch 79/100\n",
      "9/9 [==============================] - 0s 12ms/step - loss: 164.9127 - mean_absolute_error: 9.7120 - val_loss: 135.2741 - val_mean_absolute_error: 8.7430\n",
      "Epoch 80/100\n",
      "9/9 [==============================] - 0s 12ms/step - loss: 162.7328 - mean_absolute_error: 9.6303 - val_loss: 133.2173 - val_mean_absolute_error: 8.6403\n",
      "Epoch 81/100\n",
      "9/9 [==============================] - 0s 13ms/step - loss: 160.5987 - mean_absolute_error: 9.5540 - val_loss: 131.1976 - val_mean_absolute_error: 8.5378\n",
      "Epoch 82/100\n",
      "9/9 [==============================] - 0s 13ms/step - loss: 158.5539 - mean_absolute_error: 9.4743 - val_loss: 129.1827 - val_mean_absolute_error: 8.4375\n",
      "Epoch 83/100\n",
      "9/9 [==============================] - 0s 12ms/step - loss: 156.4576 - mean_absolute_error: 9.3997 - val_loss: 127.2599 - val_mean_absolute_error: 8.3402\n",
      "Epoch 84/100\n",
      "9/9 [==============================] - 0s 13ms/step - loss: 154.4759 - mean_absolute_error: 9.3257 - val_loss: 125.3665 - val_mean_absolute_error: 8.2427\n",
      "Epoch 85/100\n",
      "9/9 [==============================] - 0s 12ms/step - loss: 152.5063 - mean_absolute_error: 9.2536 - val_loss: 123.5237 - val_mean_absolute_error: 8.1466\n",
      "Epoch 86/100\n",
      "9/9 [==============================] - 0s 12ms/step - loss: 150.5566 - mean_absolute_error: 9.1817 - val_loss: 121.7508 - val_mean_absolute_error: 8.0591\n",
      "Epoch 87/100\n",
      "9/9 [==============================] - 0s 13ms/step - loss: 148.7110 - mean_absolute_error: 9.1142 - val_loss: 119.9876 - val_mean_absolute_error: 7.9721\n",
      "Epoch 88/100\n",
      "9/9 [==============================] - 0s 14ms/step - loss: 146.8848 - mean_absolute_error: 9.0455 - val_loss: 118.2536 - val_mean_absolute_error: 7.8870\n",
      "Epoch 89/100\n",
      "9/9 [==============================] - 0s 13ms/step - loss: 145.0662 - mean_absolute_error: 8.9735 - val_loss: 116.5829 - val_mean_absolute_error: 7.8036\n",
      "Epoch 90/100\n",
      "9/9 [==============================] - 0s 13ms/step - loss: 143.3960 - mean_absolute_error: 8.9074 - val_loss: 114.8783 - val_mean_absolute_error: 7.7169\n",
      "Epoch 91/100\n",
      "9/9 [==============================] - 0s 12ms/step - loss: 141.6155 - mean_absolute_error: 8.8404 - val_loss: 113.2736 - val_mean_absolute_error: 7.6338\n",
      "Epoch 92/100\n",
      "9/9 [==============================] - 0s 15ms/step - loss: 139.8991 - mean_absolute_error: 8.7753 - val_loss: 111.7496 - val_mean_absolute_error: 7.5551\n",
      "Epoch 93/100\n",
      "9/9 [==============================] - 0s 13ms/step - loss: 138.3529 - mean_absolute_error: 8.7133 - val_loss: 110.1898 - val_mean_absolute_error: 7.4770\n",
      "Epoch 94/100\n",
      "9/9 [==============================] - 0s 15ms/step - loss: 136.7256 - mean_absolute_error: 8.6502 - val_loss: 108.7093 - val_mean_absolute_error: 7.4026\n",
      "Epoch 95/100\n",
      "9/9 [==============================] - 0s 15ms/step - loss: 135.1899 - mean_absolute_error: 8.5870 - val_loss: 107.2618 - val_mean_absolute_error: 7.3285\n",
      "Epoch 96/100\n",
      "9/9 [==============================] - 0s 17ms/step - loss: 133.6976 - mean_absolute_error: 8.5295 - val_loss: 105.8343 - val_mean_absolute_error: 7.2540\n",
      "Epoch 97/100\n",
      "9/9 [==============================] - 0s 15ms/step - loss: 132.1787 - mean_absolute_error: 8.4691 - val_loss: 104.4865 - val_mean_absolute_error: 7.1835\n",
      "Epoch 98/100\n",
      "9/9 [==============================] - 0s 13ms/step - loss: 130.7981 - mean_absolute_error: 8.4111 - val_loss: 103.1286 - val_mean_absolute_error: 7.1132\n",
      "Epoch 99/100\n",
      "9/9 [==============================] - 0s 12ms/step - loss: 129.3571 - mean_absolute_error: 8.3580 - val_loss: 101.8380 - val_mean_absolute_error: 7.0450\n",
      "Epoch 100/100\n",
      "9/9 [==============================] - 0s 15ms/step - loss: 127.9933 - mean_absolute_error: 8.3022 - val_loss: 100.5967 - val_mean_absolute_error: 6.9780\n"
     ]
    }
   ],
   "source": [
    "\n",
    "history = model.fit(X_train, Y_train, validation_split=0.2, epochs=100, batch_size=32, callbacks=[early_stopping]) "
   ]
  },
  {
   "cell_type": "code",
   "execution_count": 69,
   "id": "584f2f86",
   "metadata": {},
   "outputs": [
    {
     "data": {
      "image/png": "[encoded data removed]",
      "text/plain": [
       "<Figure size 640x480 with 1 Axes>"
      ]
     },
     "metadata": {},
     "output_type": "display_data"
    }
   ],
   "source": [
    "# Plot the training and validation loss over epochs\n",
    "import matplotlib.pyplot as plt\n",
    "plt.plot(history.history['loss'], label='Training Loss')\n",
    "plt.plot(history.history['val_loss'], label='Validation Loss')\n",
    "plt.title('Model Loss')\n",
    "plt.xlabel('Epochs')\n",
    "plt.ylabel('Loss')\n",
    "plt.legend()\n",
    "plt.show()\n",
    "\n"
   ]
  },
  {
   "cell_type": "code",
   "execution_count": 70,
   "id": "e29ce942",
   "metadata": {},
   "outputs": [
    {
     "name": "stdout",
     "output_type": "stream",
     "text": [
      "5/5 [==============================] - 0s 4ms/step - loss: 92.3649 - mean_absolute_error: 6.5983\n",
      "Mean Absolute Error: [92.3648910522461, 6.5982770919799805]\n"
     ]
    }
   ],
   "source": [
    "# Evaluate the model on the testing set loss, \n",
    "mae = model.evaluate (X_test, Y_test) \n",
    "# Print the mean absolute error \n",
    "print('Mean Absolute Error:', mae)    "
   ]
  },
  {
   "cell_type": "code",
   "execution_count": null,
   "id": "0f8cbfb4",
   "metadata": {},
   "outputs": [],
   "source": []
  }
 ],
 "metadata": {
  "kernelspec": {
   "display_name": "Python 3 (ipykernel)",
   "language": "python",
   "name": "python3"
  },
  "language_info": {
   "codemirror_mode": {
    "name": "ipython",
    "version": 3
   },
   "file_extension": ".py",
   "mimetype": "text/x-python",
   "name": "python",
   "nbconvert_exporter": "python",
   "pygments_lexer": "ipython3",
   "version": "3.9.13"
  }
 },
 "nbformat": 4,
 "nbformat_minor": 5
}
