{
 "cells": [
  {
   "cell_type": "code",
   "execution_count": 1,
   "id": "9f7cd21b",
   "metadata": {},
   "outputs": [],
   "source": [
    "from tensorflow.keras.datasets import imdb"
   ]
  },
  {
   "cell_type": "code",
   "execution_count": 2,
   "id": "985e64ba",
   "metadata": {},
   "outputs": [
    {
     "name": "stdout",
     "output_type": "stream",
     "text": [
      "Downloading data from https://storage.googleapis.com/tensorflow/tf-keras-datasets/imdb.npz\n",
      "17464789/17464789 [==============================] - 3s 0us/step\n"
     ]
    }
   ],
   "source": [
    "(train_data, train_label), (test_data, test_label) = imdb.load_data(num_words = 10000)"
   ]
  },
  {
   "cell_type": "code",
   "execution_count": 3,
   "id": "bd0548c0",
   "metadata": {},
   "outputs": [],
   "source": [
    "import numpy as np\n",
    "\n",
    "def vectorize_sequences(sequences, dimensions = 10000):\n",
    "  results = np.zeros((len(sequences), dimensions))\n",
    "  for i,sequences in enumerate(sequences):\n",
    "    results[i, sequences] = 1\n",
    "  return results\n",
    "\n",
    "x_train = vectorize_sequences(train_data)\n",
    "y_train = vectorize_sequences(test_data)"
   ]
  },
  {
   "cell_type": "code",
   "execution_count": 4,
   "id": "319b6d92",
   "metadata": {},
   "outputs": [],
   "source": [
    "y_train = np.asarray(train_label).astype('float32')\n",
    "y_test = np.asarray(test_label).astype('float32')"
   ]
  },
  {
   "cell_type": "code",
   "execution_count": 5,
   "id": "0f6f6b57",
   "metadata": {},
   "outputs": [],
   "source": [
    "from tensorflow.keras.models import Sequential\n",
    "from tensorflow.keras.layers import Dense"
   ]
  },
  {
   "cell_type": "code",
   "execution_count": 6,
   "id": "fce8b9c2",
   "metadata": {},
   "outputs": [],
   "source": [
    "model = Sequential()\n",
    "model.add(Dense(16, input_shape=(10000, ), activation = \"relu\"))\n",
    "model.add(Dense(16, activation = \"relu\"))\n",
    "model.add(Dense(1, activation = \"sigmoid\"))"
   ]
  },
  {
   "cell_type": "code",
   "execution_count": 7,
   "id": "a97b3e94",
   "metadata": {},
   "outputs": [],
   "source": [
    "model.compile(optimizer='adam', loss = 'mse', metrics = ['accuracy'])"
   ]
  },
  {
   "cell_type": "code",
   "execution_count": 8,
   "id": "16fe5786",
   "metadata": {},
   "outputs": [
    {
     "name": "stdout",
     "output_type": "stream",
     "text": [
      "Model: \"sequential\"\n",
      "_________________________________________________________________\n",
      " Layer (type)                Output Shape              Param #   \n",
      "=================================================================\n",
      " dense (Dense)               (None, 16)                160016    \n",
      "                                                                 \n",
      " dense_1 (Dense)             (None, 16)                272       \n",
      "                                                                 \n",
      " dense_2 (Dense)             (None, 1)                 17        \n",
      "                                                                 \n",
      "=================================================================\n",
      "Total params: 160305 (626.19 KB)\n",
      "Trainable params: 160305 (626.19 KB)\n",
      "Non-trainable params: 0 (0.00 Byte)\n",
      "_________________________________________________________________\n"
     ]
    }
   ],
   "source": [
    "model.summary()"
   ]
  },
  {
   "cell_type": "code",
   "execution_count": 9,
   "id": "f316d7a2",
   "metadata": {},
   "outputs": [
    {
     "name": "stdout",
     "output_type": "stream",
     "text": [
      "Epoch 1/20\n",
      "35/35 [==============================] - 6s 119ms/step - loss: 0.1737 - accuracy: 0.7849 - val_loss: 0.1099 - val_accuracy: 0.8767\n",
      "Epoch 2/20\n",
      "35/35 [==============================] - 1s 29ms/step - loss: 0.0807 - accuracy: 0.9094 - val_loss: 0.0844 - val_accuracy: 0.8925\n",
      "Epoch 3/20\n",
      "35/35 [==============================] - 1s 26ms/step - loss: 0.0543 - accuracy: 0.9393 - val_loss: 0.0804 - val_accuracy: 0.8951\n",
      "Epoch 4/20\n",
      "35/35 [==============================] - 1s 25ms/step - loss: 0.0405 - accuracy: 0.9588 - val_loss: 0.0818 - val_accuracy: 0.8897\n",
      "Epoch 5/20\n",
      "35/35 [==============================] - 1s 27ms/step - loss: 0.0315 - accuracy: 0.9694 - val_loss: 0.0837 - val_accuracy: 0.8883\n",
      "Epoch 6/20\n",
      "35/35 [==============================] - 1s 29ms/step - loss: 0.0244 - accuracy: 0.9786 - val_loss: 0.0869 - val_accuracy: 0.8833\n",
      "Epoch 7/20\n",
      "35/35 [==============================] - 1s 27ms/step - loss: 0.0194 - accuracy: 0.9845 - val_loss: 0.0904 - val_accuracy: 0.8811\n",
      "Epoch 8/20\n",
      "35/35 [==============================] - 1s 26ms/step - loss: 0.0160 - accuracy: 0.9878 - val_loss: 0.0925 - val_accuracy: 0.8775\n",
      "Epoch 9/20\n",
      "35/35 [==============================] - 1s 25ms/step - loss: 0.0129 - accuracy: 0.9905 - val_loss: 0.0953 - val_accuracy: 0.8741\n",
      "Epoch 10/20\n",
      "35/35 [==============================] - 1s 26ms/step - loss: 0.0108 - accuracy: 0.9923 - val_loss: 0.0967 - val_accuracy: 0.8729\n",
      "Epoch 11/20\n",
      "35/35 [==============================] - 1s 26ms/step - loss: 0.0093 - accuracy: 0.9935 - val_loss: 0.0987 - val_accuracy: 0.8711\n",
      "Epoch 12/20\n",
      "35/35 [==============================] - 1s 33ms/step - loss: 0.0081 - accuracy: 0.9938 - val_loss: 0.0999 - val_accuracy: 0.8732\n",
      "Epoch 13/20\n",
      "35/35 [==============================] - 1s 24ms/step - loss: 0.0072 - accuracy: 0.9943 - val_loss: 0.1016 - val_accuracy: 0.8712\n",
      "Epoch 14/20\n",
      "35/35 [==============================] - 1s 24ms/step - loss: 0.0065 - accuracy: 0.9949 - val_loss: 0.1030 - val_accuracy: 0.8699\n",
      "Epoch 15/20\n",
      "35/35 [==============================] - 1s 25ms/step - loss: 0.0061 - accuracy: 0.9950 - val_loss: 0.1042 - val_accuracy: 0.8700\n",
      "Epoch 16/20\n",
      "35/35 [==============================] - 1s 24ms/step - loss: 0.0058 - accuracy: 0.9952 - val_loss: 0.1052 - val_accuracy: 0.8697\n",
      "Epoch 17/20\n",
      "35/35 [==============================] - 1s 24ms/step - loss: 0.0055 - accuracy: 0.9953 - val_loss: 0.1059 - val_accuracy: 0.8695\n",
      "Epoch 18/20\n",
      "35/35 [==============================] - 1s 29ms/step - loss: 0.0053 - accuracy: 0.9953 - val_loss: 0.1066 - val_accuracy: 0.8688\n",
      "Epoch 19/20\n",
      "35/35 [==============================] - 1s 26ms/step - loss: 0.0051 - accuracy: 0.9954 - val_loss: 0.1074 - val_accuracy: 0.8696\n",
      "Epoch 20/20\n",
      "35/35 [==============================] - 1s 26ms/step - loss: 0.0050 - accuracy: 0.9955 - val_loss: 0.1077 - val_accuracy: 0.8688\n"
     ]
    }
   ],
   "source": [
    "history = model.fit(x_train, y_train, validation_split = 0.3, epochs = 20, verbose = 1, batch_size = 512)"
   ]
  },
  {
   "cell_type": "code",
   "execution_count": null,
   "id": "01b43a96",
   "metadata": {},
   "outputs": [],
   "source": []
  }
 ],
 "metadata": {
  "kernelspec": {
   "display_name": "Python 3 (ipykernel)",
   "language": "python",
   "name": "python3"
  },
  "language_info": {
   "codemirror_mode": {
    "name": "ipython",
    "version": 3
   },
   "file_extension": ".py",
   "mimetype": "text/x-python",
   "name": "python",
   "nbconvert_exporter": "python",
   "pygments_lexer": "ipython3",
   "version": "3.9.13"
  }
 },
 "nbformat": 4,
 "nbformat_minor": 5
}
